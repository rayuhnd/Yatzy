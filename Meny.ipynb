{
 "cells": [
  {
   "cell_type": "code",
   "execution_count": null,
   "id": "76ca209e-380c-40dc-811c-9f0531e33414",
   "metadata": {},
   "outputs": [
    {
     "name": "stdout",
     "output_type": "stream",
     "text": [
      "\n",
      "================================================================================================================\n",
      "                                                                                  \n",
      " __      __       .__                                  __           _____.___.       __                 ._.\n",
      "/  \\    /  \\ ____ |  |   ____  ____   _____   ____   _/  |_  ____   \\__  |   |____ _/  |____________.__.| |\n",
      "\\   \\/\\/   // __ \\|  | _/ ___\\/  _ \\ /     \\_/ __ \\  \\   __\\/  _ \\   /   |   \\__  \\   __\\___   <   |  || |\n",
      " \\        /\\  ___/|  |_\\  \\__(  <_> )  Y Y  \\  ___/   |  | (  <_> )  \\____   |/ __ \\|  |  /    / \\___  | \\|\n",
      "  \\__/\\  /  \\___  >____/\\___  >____/|__|_|  /\\___  >  |__|  \\____/   / ______(____  /__| /_____ \\/ ____| __\n",
      "       \\/       \\/          \\/            \\/     \\/                  \\/           \\/           \\/\\/      \\/\n",
      "   \n",
      "================================================================================================================\n",
      "                                           🎲 Choose Your Mode 🎲                          \n",
      "================================================================================================================\n",
      "                                       1. 🎲 Single Player Mode 🎲                            \n",
      "                                         2. 🎲 Multiplayer Mode 🎲                             \n",
      "                                               3. 🚪 Exit                                            \n",
      "\n",
      "================================================================================================================\n",
      "                           Roll the dice, aim high, and claim victory in Yatzy!                \n",
      "================================================================================================================\n",
      "\n"
     ]
    },
    {
     "name": "stdin",
     "output_type": "stream",
     "text": [
      "Enter your choice:  1\n"
     ]
    },
    {
     "name": "stdout",
     "output_type": "stream",
     "text": [
      "Welcome to single player mode!\n",
      "You rolled: [6, 5, 1, 1, 1]\n"
     ]
    },
    {
     "name": "stdin",
     "output_type": "stream",
     "text": [
      "Do you want to roll again? (Type 'y' to roll again or 'n' to keep all):  n\n"
     ]
    },
    {
     "name": "stdout",
     "output_type": "stream",
     "text": [
      "You chose to keep all.\n",
      "Current score sheet:\n",
      "Ones 0\n",
      "Twos 0\n",
      "Threes 0\n",
      "Fours 0\n",
      "Fives 0\n",
      "Sixes 0\n",
      "One Pair 0\n",
      "Two Pairs 0\n",
      "Three of a Kind 0\n",
      "Four of a Kind 0\n",
      "Small Straight 0\n",
      "Large Straight 0\n",
      "Full House 0\n",
      "Chance 0\n",
      "Yatzy 0\n",
      "Final dice: [6, 5, 1, 1, 1]\n",
      "1. Ones\n",
      "2. Fives\n",
      "3. Sixes\n",
      "4. One Pair\n",
      "5. Three of a Kind\n",
      "6. Chance\n"
     ]
    },
    {
     "name": "stdin",
     "output_type": "stream",
     "text": [
      "Choose a category by number or type 0 to cross out:  2\n"
     ]
    },
    {
     "name": "stdout",
     "output_type": "stream",
     "text": [
      "Scored 5 points in Fives.\n",
      "Ones 0\n",
      "Twos 0\n",
      "Threes 0\n",
      "Fours 0\n",
      "Fives 5\n",
      "Sixes 0\n",
      "One Pair 0\n",
      "Two Pairs 0\n",
      "Three of a Kind 0\n",
      "Four of a Kind 0\n",
      "Small Straight 0\n",
      "Large Straight 0\n",
      "Full House 0\n",
      "Chance 0\n",
      "Yatzy 0\n",
      "You rolled: [4, 5, 1, 4, 4]\n"
     ]
    },
    {
     "name": "stdin",
     "output_type": "stream",
     "text": [
      "Do you want to roll again? (Type 'y' to roll again or 'n' to keep all):  n\n"
     ]
    },
    {
     "name": "stdout",
     "output_type": "stream",
     "text": [
      "You chose to keep all.\n",
      "Current score sheet:\n",
      "Ones 0\n",
      "Twos 0\n",
      "Threes 0\n",
      "Fours 0\n",
      "Fives 5\n",
      "Sixes 0\n",
      "One Pair 0\n",
      "Two Pairs 0\n",
      "Three of a Kind 0\n",
      "Four of a Kind 0\n",
      "Small Straight 0\n",
      "Large Straight 0\n",
      "Full House 0\n",
      "Chance 0\n",
      "Yatzy 0\n",
      "Final dice: [4, 5, 1, 4, 4]\n",
      "1. Ones\n",
      "2. Fours\n",
      "3. One Pair\n",
      "4. Three of a Kind\n",
      "5. Chance\n"
     ]
    },
    {
     "name": "stdin",
     "output_type": "stream",
     "text": [
      "Choose a category by number or type 0 to cross out:  2\n"
     ]
    },
    {
     "name": "stdout",
     "output_type": "stream",
     "text": [
      "Scored 12 points in Fours.\n",
      "Ones 0\n",
      "Twos 0\n",
      "Threes 0\n",
      "Fours 12\n",
      "Fives 5\n",
      "Sixes 0\n",
      "One Pair 0\n",
      "Two Pairs 0\n",
      "Three of a Kind 0\n",
      "Four of a Kind 0\n",
      "Small Straight 0\n",
      "Large Straight 0\n",
      "Full House 0\n",
      "Chance 0\n",
      "Yatzy 0\n",
      "You rolled: [2, 2, 4, 2, 3]\n"
     ]
    },
    {
     "name": "stdin",
     "output_type": "stream",
     "text": [
      "Do you want to roll again? (Type 'y' to roll again or 'n' to keep all):  n\n"
     ]
    },
    {
     "name": "stdout",
     "output_type": "stream",
     "text": [
      "You chose to keep all.\n",
      "Current score sheet:\n",
      "Ones 0\n",
      "Twos 0\n",
      "Threes 0\n",
      "Fours 12\n",
      "Fives 5\n",
      "Sixes 0\n",
      "One Pair 0\n",
      "Two Pairs 0\n",
      "Three of a Kind 0\n",
      "Four of a Kind 0\n",
      "Small Straight 0\n",
      "Large Straight 0\n",
      "Full House 0\n",
      "Chance 0\n",
      "Yatzy 0\n",
      "Final dice: [2, 2, 4, 2, 3]\n",
      "1. Twos\n",
      "2. Threes\n",
      "3. One Pair\n",
      "4. Three of a Kind\n",
      "5. Chance\n"
     ]
    },
    {
     "name": "stdin",
     "output_type": "stream",
     "text": [
      "Choose a category by number or type 0 to cross out:  1\n"
     ]
    },
    {
     "name": "stdout",
     "output_type": "stream",
     "text": [
      "Scored 6 points in Twos.\n",
      "Ones 0\n",
      "Twos 6\n",
      "Threes 0\n",
      "Fours 12\n",
      "Fives 5\n",
      "Sixes 0\n",
      "One Pair 0\n",
      "Two Pairs 0\n",
      "Three of a Kind 0\n",
      "Four of a Kind 0\n",
      "Small Straight 0\n",
      "Large Straight 0\n",
      "Full House 0\n",
      "Chance 0\n",
      "Yatzy 0\n",
      "You rolled: [4, 4, 2, 1, 6]\n"
     ]
    },
    {
     "name": "stdin",
     "output_type": "stream",
     "text": [
      "Do you want to roll again? (Type 'y' to roll again or 'n' to keep all):  n\n"
     ]
    },
    {
     "name": "stdout",
     "output_type": "stream",
     "text": [
      "You chose to keep all.\n",
      "Current score sheet:\n",
      "Ones 0\n",
      "Twos 6\n",
      "Threes 0\n",
      "Fours 12\n",
      "Fives 5\n",
      "Sixes 0\n",
      "One Pair 0\n",
      "Two Pairs 0\n",
      "Three of a Kind 0\n",
      "Four of a Kind 0\n",
      "Small Straight 0\n",
      "Large Straight 0\n",
      "Full House 0\n",
      "Chance 0\n",
      "Yatzy 0\n",
      "Final dice: [4, 4, 2, 1, 6]\n",
      "1. Ones\n",
      "2. Sixes\n",
      "3. One Pair\n",
      "4. Chance\n"
     ]
    },
    {
     "name": "stdin",
     "output_type": "stream",
     "text": [
      "Choose a category by number or type 0 to cross out:  1\n"
     ]
    },
    {
     "name": "stdout",
     "output_type": "stream",
     "text": [
      "Scored 1 points in Ones.\n",
      "Ones 1\n",
      "Twos 6\n",
      "Threes 0\n",
      "Fours 12\n",
      "Fives 5\n",
      "Sixes 0\n",
      "One Pair 0\n",
      "Two Pairs 0\n",
      "Three of a Kind 0\n",
      "Four of a Kind 0\n",
      "Small Straight 0\n",
      "Large Straight 0\n",
      "Full House 0\n",
      "Chance 0\n",
      "Yatzy 0\n",
      "You rolled: [4, 3, 6, 2, 6]\n"
     ]
    },
    {
     "name": "stdin",
     "output_type": "stream",
     "text": [
      "Do you want to roll again? (Type 'y' to roll again or 'n' to keep all):  y\n",
      "Enter indices to keep (1-5) separated by spaces, or press Enter to keep all:  1\n"
     ]
    },
    {
     "name": "stdout",
     "output_type": "stream",
     "text": [
      "Ones 1\n",
      "Twos 6\n",
      "Threes 0\n",
      "Fours 12\n",
      "Fives 5\n",
      "Sixes 0\n",
      "One Pair 0\n",
      "Two Pairs 0\n",
      "Three of a Kind 0\n",
      "Four of a Kind 0\n",
      "Small Straight 0\n",
      "Large Straight 0\n",
      "Full House 0\n",
      "Chance 0\n",
      "Yatzy 0\n",
      "You rolled: [4, 2, 5, 3, 3]\n"
     ]
    },
    {
     "name": "stdin",
     "output_type": "stream",
     "text": [
      "Do you want to roll again? (Type 'y' to roll again or 'n' to keep all):  y\n",
      "Enter indices to keep (1-5) separated by spaces, or press Enter to keep all:  1\n"
     ]
    },
    {
     "name": "stdout",
     "output_type": "stream",
     "text": [
      "Ones 1\n",
      "Twos 6\n",
      "Threes 0\n",
      "Fours 12\n",
      "Fives 5\n",
      "Sixes 0\n",
      "One Pair 0\n",
      "Two Pairs 0\n",
      "Three of a Kind 0\n",
      "Four of a Kind 0\n",
      "Small Straight 0\n",
      "Large Straight 0\n",
      "Full House 0\n",
      "Chance 0\n",
      "Yatzy 0\n",
      "You rolled: [4, 2, 4, 6, 5]\n",
      "Final dice: [4, 2, 4, 6, 5]\n",
      "1. Sixes\n",
      "2. One Pair\n",
      "3. Chance\n"
     ]
    },
    {
     "name": "stdin",
     "output_type": "stream",
     "text": [
      "Choose a category by number or type 0 to cross out:  0\n",
      "Type name of category to cross out:  Sixes\n"
     ]
    },
    {
     "name": "stdout",
     "output_type": "stream",
     "text": [
      "Ones 1\n",
      "Twos 6\n",
      "Threes 0\n",
      "Fours 12\n",
      "Fives 5\n",
      "Sixes x\n",
      "One Pair 0\n",
      "Two Pairs 0\n",
      "Three of a Kind 0\n",
      "Four of a Kind 0\n",
      "Small Straight 0\n",
      "Large Straight 0\n",
      "Full House 0\n",
      "Chance 0\n",
      "Yatzy 0\n",
      "You rolled: [2, 4, 6, 3, 4]\n"
     ]
    },
    {
     "name": "stdin",
     "output_type": "stream",
     "text": [
      "Do you want to roll again? (Type 'y' to roll again or 'n' to keep all):  n\n"
     ]
    },
    {
     "name": "stdout",
     "output_type": "stream",
     "text": [
      "You chose to keep all.\n",
      "Current score sheet:\n",
      "Ones 1\n",
      "Twos 6\n",
      "Threes 0\n",
      "Fours 12\n",
      "Fives 5\n",
      "Sixes x\n",
      "One Pair 0\n",
      "Two Pairs 0\n",
      "Three of a Kind 0\n",
      "Four of a Kind 0\n",
      "Small Straight 0\n",
      "Large Straight 0\n",
      "Full House 0\n",
      "Chance 0\n",
      "Yatzy 0\n",
      "Final dice: [2, 4, 6, 3, 4]\n",
      "1. Threes\n",
      "2. One Pair\n",
      "3. Chance\n"
     ]
    },
    {
     "name": "stdin",
     "output_type": "stream",
     "text": [
      "Choose a category by number or type 0 to cross out:  0\n",
      "Type name of category to cross out:  Fours\n"
     ]
    },
    {
     "name": "stdout",
     "output_type": "stream",
     "text": [
      "Not a valid input.\n",
      "\n",
      "================================================================================================================\n",
      "                                                                                  \n",
      " __      __       .__                                  __           _____.___.       __                 ._.\n",
      "/  \\    /  \\ ____ |  |   ____  ____   _____   ____   _/  |_  ____   \\__  |   |____ _/  |____________.__.| |\n",
      "\\   \\/\\/   // __ \\|  | _/ ___\\/  _ \\ /     \\_/ __ \\  \\   __\\/  _ \\   /   |   \\__  \\   __\\___   <   |  || |\n",
      " \\        /\\  ___/|  |_\\  \\__(  <_> )  Y Y  \\  ___/   |  | (  <_> )  \\____   |/ __ \\|  |  /    / \\___  | \\|\n",
      "  \\__/\\  /  \\___  >____/\\___  >____/|__|_|  /\\___  >  |__|  \\____/   / ______(____  /__| /_____ \\/ ____| __\n",
      "       \\/       \\/          \\/            \\/     \\/                  \\/           \\/           \\/\\/      \\/\n",
      "   \n",
      "================================================================================================================\n",
      "                                           🎲 Choose Your Mode 🎲                          \n",
      "================================================================================================================\n",
      "                                       1. 🎲 Single Player Mode 🎲                            \n",
      "                                         2. 🎲 Multiplayer Mode 🎲                             \n",
      "                                               3. 🚪 Exit                                            \n",
      "\n",
      "================================================================================================================\n",
      "                           Roll the dice, aim high, and claim victory in Yatzy!                \n",
      "================================================================================================================\n",
      "\n"
     ]
    }
   ],
   "source": [
    "import yatzee\n",
    "from yatzee import roll_dice, single_player_mode, score_sheet, re_roll, upper_section, lower_section\n",
    "def display_menu():\n",
    "    print(\"\"\"\n",
    "================================================================================================================\n",
    "                                                                                  \n",
    " __      __       .__                                  __           _____.___.       __                 ._.\n",
    "/  \\    /  \\ ____ |  |   ____  ____   _____   ____   _/  |_  ____   \\__  |   |____ _/  |____________.__.| |\n",
    "\\   \\/\\/   // __ \\|  | _/ ___\\/  _ \\ /     \\_/ __ \\  \\   __\\/  _ \\   /   |   \\__  \\\\   __\\___   <   |  || |\n",
    " \\        /\\  ___/|  |_\\  \\__(  <_> )  Y Y  \\  ___/   |  | (  <_> )  \\____   |/ __ \\|  |  /    / \\___  | \\|\n",
    "  \\__/\\  /  \\___  >____/\\___  >____/|__|_|  /\\___  >  |__|  \\____/   / ______(____  /__| /_____ \\/ ____| __\n",
    "       \\/       \\/          \\/            \\/     \\/                  \\/           \\/           \\/\\/      \\/\n",
    "   \n",
    "================================================================================================================\n",
    "                                           🎲 Choose Your Mode 🎲                          \n",
    "================================================================================================================\n",
    "                                       1. 🎲 Single Player Mode 🎲                            \n",
    "                                         2. 🎲 Multiplayer Mode 🎲                             \n",
    "                                               3. 🚪 Exit                                            \n",
    "\n",
    "================================================================================================================\n",
    "                           Roll the dice, aim high, and claim victory in Yatzy!                \n",
    "================================================================================================================\n",
    "\"\"\")\n",
    "\n",
    "\n",
    "def main():\n",
    "    while True:\n",
    "        display_menu()\n",
    "        choice = input(\"Enter your choice: \")\n",
    "        \n",
    "        if choice == '1':\n",
    "            print(\"Welcome to single player mode!\")\n",
    "            single_player_mode()\n",
    "        elif choice == '2':\n",
    "            multiplayer_mode()\n",
    "        elif choice == '3':\n",
    "            print(\"Thank you for playing! Goodbye!\")\n",
    "            break\n",
    "        else:\n",
    "            print(\"Invalid choice, please try again.\")\n",
    "\n",
    "main()\n"
   ]
  },
  {
   "cell_type": "code",
   "execution_count": null,
   "id": "52102961-5943-4124-bc83-7df3d10d5b45",
   "metadata": {},
   "outputs": [],
   "source": []
  }
 ],
 "metadata": {
  "kernelspec": {
   "display_name": "Python 3 (ipykernel)",
   "language": "python",
   "name": "python3"
  },
  "language_info": {
   "codemirror_mode": {
    "name": "ipython",
    "version": 3
   },
   "file_extension": ".py",
   "mimetype": "text/x-python",
   "name": "python",
   "nbconvert_exporter": "python",
   "pygments_lexer": "ipython3",
   "version": "3.11.9"
  }
 },
 "nbformat": 4,
 "nbformat_minor": 5
}
